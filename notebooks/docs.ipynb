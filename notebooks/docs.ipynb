{
 "cells": [
  {
   "cell_type": "code",
   "execution_count": 1,
   "metadata": {},
   "outputs": [],
   "source": [
    "from docx import Document\n",
    "import os"
   ]
  },
  {
   "cell_type": "code",
   "execution_count": 7,
   "metadata": {},
   "outputs": [
    {
     "data": {
      "text/plain": [
       "'/Users/a1/github_reps/tg_doc_generator/notebooks'"
      ]
     },
     "execution_count": 7,
     "metadata": {},
     "output_type": "execute_result"
    }
   ],
   "source": [
    "pwd"
   ]
  },
  {
   "cell_type": "code",
   "execution_count": 58,
   "metadata": {},
   "outputs": [],
   "source": [
    "source_doc = Document('../tg_doc_generator/res/templates/software_registration/description.docx')"
   ]
  },
  {
   "cell_type": "code",
   "execution_count": 65,
   "metadata": {},
   "outputs": [
    {
     "name": "stdout",
     "output_type": "stream",
     "text": [
      "0 Шаблон\n",
      "1 \n",
      "2 Внимание! Текст, набранный курсивом в реферате непосредственной  печати не подлежит, так как он только поясняет, какого рода информация должна быть указана. Информация в реферате печатается прямым шрифтом\n",
      "3 \n",
      "4 РЕФЕРАТ\n",
      "5 \n",
      "6      Авторы: Фамилии Имена Отчества всех авторов \n",
      "7 \n",
      "8 Право-\n",
      "9 обладатель: Наименование правообладателя \n",
      "10 \n",
      "11 \n",
      "12 Программа: Прошивка диагностического модуля системы мониторинга состояния подшипников скольжения\n",
      "13 \n",
      "14 Аннотация: \tПрограмма предназначена для настройки инженерного модуля с системой-на-чипе ESP32 для работы в режиме подключаемого к мастер-модулю системы мониторинга состояния подшипников скольжения диагностического модуля. Программа обеспечивает получение данных о температуре, вибрации, износе, давлении масла в реальном времени от соответствующих подключенных датчиков. Реализована функция контроля правильности установки оборудования посредством NFC-модуля. Программа передает полученные данные на мастер-устройство по протоколу ESP-NOW в режиме реального времени. \n",
      "15 \n",
      "16 Тип ЭВМ: Tensilica Xtensa LX6 RISC-V совместимый микропроцессор\n",
      "17 Язык: C++\n",
      "18 Объём\n",
      "19 программы:  37 Kб \n",
      "20 (исходного текста)\n"
     ]
    }
   ],
   "source": [
    "for i, paragraph in enumerate(source_doc.paragraphs):\n",
    "    print(i, paragraph.text)"
   ]
  },
  {
   "cell_type": "code",
   "execution_count": 63,
   "metadata": {},
   "outputs": [
    {
     "data": {
      "text/plain": [
       "[<docx.text.paragraph.Paragraph at 0x112998950>,\n",
       " <docx.text.paragraph.Paragraph at 0x112837bd0>,\n",
       " <docx.text.paragraph.Paragraph at 0x1128377d0>,\n",
       " <docx.text.paragraph.Paragraph at 0x1106d5e10>,\n",
       " <docx.text.paragraph.Paragraph at 0x1106d47d0>,\n",
       " <docx.text.paragraph.Paragraph at 0x1106d6dd0>,\n",
       " <docx.text.paragraph.Paragraph at 0x1106d4a90>,\n",
       " <docx.text.paragraph.Paragraph at 0x1106d5250>,\n",
       " <docx.text.paragraph.Paragraph at 0x1106d7010>,\n",
       " <docx.text.paragraph.Paragraph at 0x1106d6890>,\n",
       " <docx.text.paragraph.Paragraph at 0x1106d6a10>,\n",
       " <docx.text.paragraph.Paragraph at 0x1106d7950>,\n",
       " <docx.text.paragraph.Paragraph at 0x1106d4b10>,\n",
       " <docx.text.paragraph.Paragraph at 0x1106d4690>,\n",
       " <docx.text.paragraph.Paragraph at 0x1106d6e90>,\n",
       " <docx.text.paragraph.Paragraph at 0x1106d5ad0>,\n",
       " <docx.text.paragraph.Paragraph at 0x1106d6690>,\n",
       " <docx.text.paragraph.Paragraph at 0x1106d6b50>,\n",
       " <docx.text.paragraph.Paragraph at 0x1106d4850>,\n",
       " <docx.text.paragraph.Paragraph at 0x1106d5b90>,\n",
       " <docx.text.paragraph.Paragraph at 0x1106d7ed0>]"
      ]
     },
     "execution_count": 63,
     "metadata": {},
     "output_type": "execute_result"
    }
   ],
   "source": [
    "source_doc.paragraphs"
   ]
  },
  {
   "cell_type": "code",
   "execution_count": 53,
   "metadata": {},
   "outputs": [
    {
     "data": {
      "text/plain": [
       "'Язык: C++'"
      ]
     },
     "execution_count": 53,
     "metadata": {},
     "output_type": "execute_result"
    }
   ],
   "source": [
    "source_doc.paragraphs[17].text"
   ]
  },
  {
   "cell_type": "code",
   "execution_count": 66,
   "metadata": {},
   "outputs": [],
   "source": [
    "from docx.shared import Pt, RGBColor\n",
    "from docx.enum.text import WD_ALIGN_PARAGRAPH\n",
    "from typing import Literal\n",
    "\n",
    "def create_custom_style(doc, alignment: Literal['justify', 'center']):\n",
    "    style = doc.styles.add_style('CustomStyle', 1)\n",
    "    font = style.font\n",
    "    font.name = 'Times New Roman'\n",
    "    font.size = Pt(12)\n",
    "    font.color.rgb = RGBColor(0, 0, 0)\n",
    "    paragraph_format = style.paragraph_format\n",
    "    match alignment: \n",
    "        case 'justify':\n",
    "            paragraph_format.alignment = WD_ALIGN_PARAGRAPH.JUSTIFY\n",
    "        case 'center':\n",
    "            paragraph_format.alignment = WD_ALIGN_PARAGRAPH.CENTER\n",
    "    paragraph_format.line_spacing = 1.5\n",
    "    return style\n",
    "\n"
   ]
  },
  {
   "cell_type": "code",
   "execution_count": 67,
   "metadata": {},
   "outputs": [],
   "source": [
    "doc = Document()\n",
    "\n",
    "times_centered = create_custom_style(doc, 'center')\n",
    "times = create_custom_style(doc, 'justify')\n",
    "doc.add_paragraph('РЕФЕРАТ', style=times_centered)\n",
    "\n",
    "\n",
    "doc.save('output.docx')"
   ]
  },
  {
   "cell_type": "code",
   "execution_count": null,
   "metadata": {},
   "outputs": [],
   "source": []
  }
 ],
 "metadata": {
  "kernelspec": {
   "display_name": "tg-doc-generator-K6lOkZff-py3.11",
   "language": "python",
   "name": "python3"
  },
  "language_info": {
   "codemirror_mode": {
    "name": "ipython",
    "version": 3
   },
   "file_extension": ".py",
   "mimetype": "text/x-python",
   "name": "python",
   "nbconvert_exporter": "python",
   "pygments_lexer": "ipython3",
   "version": "3.11.4"
  }
 },
 "nbformat": 4,
 "nbformat_minor": 2
}
